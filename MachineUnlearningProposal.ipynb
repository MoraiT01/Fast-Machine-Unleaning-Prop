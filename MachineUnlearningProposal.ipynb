{
 "cells": [
  {
   "cell_type": "markdown",
   "id": "9584dc74",
   "metadata": {},
   "source": [
    "# Machine Unlearning + Noise Generator\n",
    "\n",
    "This is a copy of the original `Machine Unlearning.ipynb` notebook, with the key difference of using a different way of generating the noise."
   ]
  },
  {
   "cell_type": "code",
   "execution_count": 1,
   "id": "4e828435",
   "metadata": {},
   "outputs": [
    {
     "data": {
      "text/plain": [
       "'cuda:0'"
      ]
     },
     "execution_count": 1,
     "metadata": {},
     "output_type": "execute_result"
    }
   ],
   "source": [
    "# import required libraries\n",
    "import numpy as np\n",
    "import tarfile\n",
    "import os\n",
    "import math\n",
    "\n",
    "import torch\n",
    "from torch import nn\n",
    "import torch.nn.functional as F\n",
    "from torchvision.datasets.utils import download_url\n",
    "from torchvision.datasets import ImageFolder\n",
    "from torch.utils.data import DataLoader\n",
    "import torchvision.transforms as tt\n",
    "from torchvision.models import resnet18\n",
    "\n",
    "\n",
    "train_new_one = False\n",
    "# torch.manual_seed(100)\n",
    "# After I optimize the Hyperparameters, I want to calculate at least 30 models, to chech the average performance\n",
    "DEVICE = \"cuda:0\" if torch.cuda.is_available() else \"cpu\"\n",
    "DEVICE"
   ]
  },
  {
   "cell_type": "markdown",
   "id": "2a73d496",
   "metadata": {},
   "source": [
    "## Helper Functions"
   ]
  },
  {
   "cell_type": "code",
   "execution_count": 2,
   "id": "a7e04a64",
   "metadata": {},
   "outputs": [],
   "source": [
    "def accuracy(outputs, labels):\n",
    "    _, preds = torch.max(outputs, dim=1)\n",
    "    return torch.tensor(torch.sum(preds == labels).item() / len(preds))\n",
    "\n",
    "def training_step(model, batch):\n",
    "    images, labels = batch\n",
    "    images, labels = images.to(DEVICE), labels.to(DEVICE)\n",
    "    out = model(images)                  \n",
    "    loss = F.cross_entropy(out, labels) \n",
    "    return loss\n",
    "\n",
    "def validation_step(model, batch):\n",
    "    images, labels = batch\n",
    "    images, labels = images.to(DEVICE), labels.to(DEVICE)\n",
    "    out = model(images)                    \n",
    "    loss = F.cross_entropy(out, labels)   \n",
    "    acc = accuracy(out, labels)\n",
    "    return {'Loss': loss.detach(), 'Acc': acc}\n",
    "\n",
    "def validation_epoch_end(model, outputs):\n",
    "    batch_losses = [x['Loss'] for x in outputs]\n",
    "    epoch_loss = torch.stack(batch_losses).mean()   \n",
    "    batch_accs = [x['Acc'] for x in outputs]\n",
    "    epoch_acc = torch.stack(batch_accs).mean()      \n",
    "    return {'Loss': epoch_loss.item(), 'Acc': epoch_acc.item()}\n",
    "\n",
    "def epoch_end(model, epoch, result):\n",
    "    print(\"Epoch [{}], last_lr: {:.5f}, train_loss: {:.4f}, val_loss: {:.4f}, val_acc: {:.4f}\".format(\n",
    "        epoch, result['lrs'][-1], result['train_loss'], result['Loss'], result['Acc']))\n",
    "    \n",
    "def distance(model,model0):\n",
    "    distance=0\n",
    "    normalization=0\n",
    "    for (k, p), (k0, p0) in zip(model.named_parameters(), model0.named_parameters()):\n",
    "        space='  ' if 'bias' in k else ''\n",
    "        current_dist=(p.data0-p0.data0).pow(2).sum().item()\n",
    "        current_norm=p.data0.pow(2).sum().item()\n",
    "        distance+=current_dist\n",
    "        normalization+=current_norm\n",
    "    print(f'Distance: {np.sqrt(distance)}')\n",
    "    print(f'Normalized Distance: {1.0*np.sqrt(distance/normalization)}')\n",
    "    return 1.0*np.sqrt(distance/normalization)"
   ]
  },
  {
   "cell_type": "code",
   "execution_count": 3,
   "id": "fec89a25",
   "metadata": {},
   "outputs": [],
   "source": [
    "@torch.no_grad()\n",
    "def evaluate(model, val_loader):\n",
    "    model.eval()\n",
    "    outputs = [validation_step(model, batch) for batch in val_loader]\n",
    "    return validation_epoch_end(model, outputs)\n",
    "\n",
    "def get_lr(optimizer):\n",
    "    for param_group in optimizer.param_groups:\n",
    "        return param_group['lr']\n",
    "\n",
    "def fit_one_cycle(epochs, max_lr, model, train_loader, val_loader, \n",
    "                  weight_decay=0, grad_clip=None, opt_func=torch.optim.SGD):\n",
    "    torch.cuda.empty_cache()\n",
    "    history = []\n",
    "    \n",
    "    optimizer = opt_func(model.parameters(), max_lr, weight_decay=weight_decay)\n",
    "\n",
    "    sched = torch.optim.lr_scheduler.ReduceLROnPlateau(optimizer, mode='min', factor=0.5, patience=3, verbose=True)\n",
    "    \n",
    "    for epoch in range(epochs): \n",
    "        model.train()\n",
    "        train_losses = []\n",
    "        lrs = []\n",
    "        for batch in train_loader:\n",
    "            loss = training_step(model, batch)\n",
    "            train_losses.append(loss)\n",
    "            loss.backward()\n",
    "            \n",
    "            if grad_clip: \n",
    "                nn.utils.clip_grad_value_(model.parameters(), grad_clip)\n",
    "            \n",
    "            optimizer.step()\n",
    "            optimizer.zero_grad()\n",
    "            \n",
    "            lrs.append(get_lr(optimizer))\n",
    "            \n",
    "        \n",
    "        # Validation phase\n",
    "        result = evaluate(model, val_loader)\n",
    "        result['train_loss'] = torch.stack(train_losses).mean().item()\n",
    "        result['lrs'] = lrs\n",
    "        epoch_end(model, epoch, result)\n",
    "        history.append(result)\n",
    "        sched.step(result['Loss'])\n",
    "    return history"
   ]
  },
  {
   "cell_type": "markdown",
   "id": "a5c6d890",
   "metadata": {},
   "source": [
    "## Train/Load the Model"
   ]
  },
  {
   "cell_type": "markdown",
   "id": "32155eed",
   "metadata": {},
   "source": [
    "### load the dataset"
   ]
  },
  {
   "cell_type": "code",
   "execution_count": 4,
   "id": "b41e0a9f",
   "metadata": {},
   "outputs": [
    {
     "name": "stdout",
     "output_type": "stream",
     "text": [
      "Using downloaded and verified file: ./cifar10.tgz\n"
     ]
    },
    {
     "name": "stderr",
     "output_type": "stream",
     "text": [
      "/tmp/ipykernel_3716/3544667939.py:8: DeprecationWarning: Python 3.14 will, by default, filter extracted tar archives and reject files or modify their metadata. Use the filter argument to control this behavior.\n",
      "  tar.extractall(path='./data')\n"
     ]
    },
    {
     "name": "stdout",
     "output_type": "stream",
     "text": [
      "['test', 'train']\n",
      "['bird', 'deer', 'horse', 'automobile', 'frog', 'airplane', 'truck', 'cat', 'dog', 'ship']\n"
     ]
    }
   ],
   "source": [
    "# Dowload the dataset\n",
    "if os.path.exists(\"data/cifar10\"):\n",
    "    dataset_url = \"https://s3.amazonaws.com/fast-ai-imageclas/cifar10.tgz\"\n",
    "    download_url(dataset_url, '.')\n",
    "\n",
    "    # Extract from archive\n",
    "    with tarfile.open('./cifar10.tgz', 'r:gz') as tar:\n",
    "        tar.extractall(path='./data')\n",
    "        \n",
    "    # Look into the data directory\n",
    "    data_dir = './data/cifar10'\n",
    "    print(os.listdir(data_dir))\n",
    "    classes = os.listdir(data_dir + \"/train\")\n",
    "    print(classes)"
   ]
  },
  {
   "cell_type": "code",
   "execution_count": 5,
   "id": "29db69d8",
   "metadata": {},
   "outputs": [],
   "source": [
    "transform_train = tt.Compose([\n",
    "    tt.ToTensor(),\n",
    "    tt.Normalize((0.4914, 0.4822, 0.4465), (0.2023, 0.1994, 0.2010)),\n",
    "])\n",
    "\n",
    "transform_test = tt.Compose([\n",
    "    tt.ToTensor(),\n",
    "    tt.Normalize((0.4914, 0.4822, 0.4465), (0.2023, 0.1994, 0.2010)),\n",
    "])"
   ]
  },
  {
   "cell_type": "code",
   "execution_count": 6,
   "id": "27a417a0",
   "metadata": {},
   "outputs": [],
   "source": [
    "train_ds = ImageFolder(data_dir+'/train', transform_train)\n",
    "valid_ds = ImageFolder(data_dir+'/test', transform_test)"
   ]
  },
  {
   "cell_type": "code",
   "execution_count": 7,
   "id": "7844cd60",
   "metadata": {},
   "outputs": [],
   "source": [
    "batch_size = 256\n",
    "train_dl = DataLoader(train_ds, batch_size, shuffle=True, num_workers=3, pin_memory=True)\n",
    "valid_dl = DataLoader(valid_ds, batch_size*2, num_workers=3, pin_memory=True)"
   ]
  },
  {
   "cell_type": "markdown",
   "id": "796f4d2b",
   "metadata": {},
   "source": [
    "### Train and save the model"
   ]
  },
  {
   "cell_type": "code",
   "execution_count": 8,
   "id": "54996a18",
   "metadata": {},
   "outputs": [],
   "source": [
    "DEVICE = \"cuda:0\" if torch.cuda.is_available() else \"cpu\"\n",
    "model = resnet18(num_classes = 10).to(DEVICE)\n",
    "\n",
    "epochs = 40\n",
    "max_lr = 0.01\n",
    "grad_clip = 0.1\n",
    "weight_decay = 1e-4\n",
    "opt_func = torch.optim.Adam"
   ]
  },
  {
   "cell_type": "code",
   "execution_count": 9,
   "id": "d6352284",
   "metadata": {},
   "outputs": [
    {
     "ename": "AttributeError",
     "evalue": "module 'os' has no attribute 'exists'",
     "output_type": "error",
     "traceback": [
      "\u001b[0;31m---------------------------------------------------------------------------\u001b[0m",
      "\u001b[0;31mAttributeError\u001b[0m                            Traceback (most recent call last)",
      "File \u001b[0;32m<timed exec>:1\u001b[0m\n",
      "\u001b[0;31mAttributeError\u001b[0m: module 'os' has no attribute 'exists'"
     ]
    }
   ],
   "source": [
    "%%time\n",
    "if os.exists(\"ResNET18_CIFAR10_ALL_CLASSES.pt\"):\n",
    "    history = fit_one_cycle(epochs, max_lr, model, train_dl, valid_dl, \n",
    "                                grad_clip=grad_clip, \n",
    "                                weight_decay=weight_decay, \n",
    "                                opt_func=opt_func)\n",
    "\n",
    "    torch.save(model.state_dict(), \"ResNET18_CIFAR10_ALL_CLASSES.pt\")"
   ]
  },
  {
   "cell_type": "markdown",
   "id": "b980397d",
   "metadata": {},
   "source": [
    "### Testing the Model"
   ]
  },
  {
   "cell_type": "code",
   "execution_count": 10,
   "id": "d3769eeb",
   "metadata": {},
   "outputs": [],
   "source": [
    "if train_new_one:\n",
    "    model.load_state_dict(torch.load(\"ResNET18_CIFAR10_ALL_CLASSES.pt\", map_location=DEVICE))\n",
    "    history = [evaluate(model, valid_dl)]\n",
    "    history"
   ]
  },
  {
   "cell_type": "markdown",
   "id": "98e31ccb",
   "metadata": {},
   "source": [
    "## Unlearning"
   ]
  },
  {
   "cell_type": "markdown",
   "id": "b4696560",
   "metadata": {},
   "source": [
    "___"
   ]
  },
  {
   "cell_type": "markdown",
   "id": "e4d212fd",
   "metadata": {},
   "source": [
    "Originally used:"
   ]
  },
  {
   "cell_type": "code",
   "execution_count": 11,
   "id": "96f88a4f",
   "metadata": {},
   "outputs": [],
   "source": [
    "# # defining the noise structure\n",
    "# class Noise(nn.Module):\n",
    "#     def __init__(self, *dim):\n",
    "#         super().__init__()\n",
    "#         self.noise = torch.nn.Parameter(torch.randn(*dim), requires_grad = True)\n",
    "        \n",
    "#     def forward(self):\n",
    "#         return self.noise"
   ]
  },
  {
   "cell_type": "markdown",
   "id": "3c939dd9",
   "metadata": {},
   "source": [
    "Trying a different approach:"
   ]
  },
  {
   "cell_type": "code",
   "execution_count": 12,
   "id": "287dac3c",
   "metadata": {},
   "outputs": [],
   "source": [
    "class NoiseGenerator(nn.Module):\n",
    "    \"\"\"\n",
    "    A neural network module for generating noise patterns\n",
    "    through a series of fully connected layers.\n",
    "    \"\"\"\n",
    "\n",
    "    def __init__(\n",
    "            self, \n",
    "            dim_out: list,\n",
    "            dim_hidden: list = [1000],\n",
    "            dim_start: int = 100,\n",
    "            ):\n",
    "        \"\"\"\n",
    "        Initialize the NoiseGenerator.\n",
    "\n",
    "        Parameters:\n",
    "            dim_out (list): The output dimensions for the generated noise.\n",
    "            dim_hidden (list): The dimensions of hidden layers, defaults to [1000].\n",
    "            dim_start (int): The initial dimension of random noise, defaults to 100.\n",
    "        \"\"\"\n",
    "        super().__init__()\n",
    "        self.dim = dim_out\n",
    "        self.start_dims = dim_start  # Initial dimension of random noise\n",
    "\n",
    "        # Define fully connected layers\n",
    "        self.layers = {}\n",
    "        self.layers[\"l1\"] = nn.Linear(self.start_dims, dim_hidden[0])\n",
    "        last = dim_hidden[0]\n",
    "        for idx in range(len(dim_hidden)-1):\n",
    "            self.layers[f\"l{idx+2}\"] = nn.Linear(dim_hidden[idx], dim_hidden[idx+1])\n",
    "            last = dim_hidden[idx+1]\n",
    "\n",
    "        # Define output layer\n",
    "        self.f_out = nn.Linear(last, math.prod(self.dim))        \n",
    "\n",
    "    def forward(self):\n",
    "        \"\"\"\n",
    "        Forward pass to transform random noise into structured output.\n",
    "\n",
    "        Returns:\n",
    "            torch.Tensor: The reshaped tensor with specified output dimensions.\n",
    "        \"\"\"\n",
    "        # Generate random starting noise\n",
    "        x = torch.randn(self.start_dims)\n",
    "        x = x.flatten()\n",
    "\n",
    "        # Transform noise into learnable patterns\n",
    "        for layer in self.layers.keys():\n",
    "            x = self.layers[layer](x)\n",
    "            x = torch.relu(x)\n",
    "\n",
    "        # Apply output layer\n",
    "        x = self.f_out(x)\n",
    "\n",
    "        # Reshape tensor to the specified dimensions\n",
    "        reshaped_tensor = x.view(self.dim)\n",
    "        return reshaped_tensor"
   ]
  },
  {
   "cell_type": "markdown",
   "id": "eff85afe",
   "metadata": {},
   "source": [
    "___"
   ]
  },
  {
   "cell_type": "code",
   "execution_count": 13,
   "id": "65082f19",
   "metadata": {},
   "outputs": [],
   "source": [
    "# list of all classes\n",
    "classes = [0, 1, 2, 3, 4, 5, 6, 7, 8, 9]\n",
    "\n",
    "# classes which are required to un-learn\n",
    "classes_to_forget = [0, 2]"
   ]
  },
  {
   "cell_type": "code",
   "execution_count": 14,
   "id": "cfedd156",
   "metadata": {},
   "outputs": [],
   "source": [
    "# classwise list of samples\n",
    "num_classes = 10\n",
    "classwise_train = {}\n",
    "for i in range(num_classes):\n",
    "    classwise_train[i] = []\n",
    "\n",
    "for img, label in train_ds:\n",
    "    classwise_train[label].append((img, label))\n",
    "    \n",
    "classwise_test = {}\n",
    "for i in range(num_classes):\n",
    "    classwise_test[i] = []\n",
    "\n",
    "for img, label in valid_ds:\n",
    "    classwise_test[label].append((img, label))"
   ]
  },
  {
   "cell_type": "code",
   "execution_count": 15,
   "id": "edbda37b",
   "metadata": {},
   "outputs": [],
   "source": [
    "# getting some samples from retain classes\n",
    "num_samples_per_class = 1000\n",
    "\n",
    "retain_samples = []\n",
    "for i in range(len(classes)):\n",
    "    if classes[i] not in classes_to_forget:\n",
    "        retain_samples += classwise_train[i][:num_samples_per_class]\n",
    "        "
   ]
  },
  {
   "cell_type": "code",
   "execution_count": 16,
   "id": "70736605",
   "metadata": {},
   "outputs": [],
   "source": [
    "# retain validation set\n",
    "retain_valid = []\n",
    "for cls in range(num_classes):\n",
    "    if cls not in classes_to_forget:\n",
    "        for img, label in classwise_test[cls]:\n",
    "            retain_valid.append((img, label))\n",
    "            \n",
    "# forget validation set\n",
    "forget_valid = []\n",
    "for cls in range(num_classes):\n",
    "    if cls in classes_to_forget:\n",
    "        for img, label in classwise_test[cls]:\n",
    "            forget_valid.append((img, label))\n",
    "            \n",
    "forget_valid_dl = DataLoader(forget_valid, batch_size, num_workers=3, pin_memory=True)\n",
    "retain_valid_dl = DataLoader(retain_valid, batch_size*2, num_workers=3, pin_memory=True)"
   ]
  },
  {
   "cell_type": "markdown",
   "id": "2bb9afbe",
   "metadata": {},
   "source": [
    "### Training the Noise"
   ]
  },
  {
   "cell_type": "code",
   "execution_count": 17,
   "id": "2fcc11a4",
   "metadata": {},
   "outputs": [
    {
     "name": "stderr",
     "output_type": "stream",
     "text": [
      "/tmp/ipykernel_3716/1124881384.py:3: FutureWarning: You are using `torch.load` with `weights_only=False` (the current default value), which uses the default pickle module implicitly. It is possible to construct malicious pickle data which will execute arbitrary code during unpickling (See https://github.com/pytorch/pytorch/blob/main/SECURITY.md#untrusted-models for more details). In a future release, the default value for `weights_only` will be flipped to `True`. This limits the functions that could be executed during unpickling. Arbitrary objects will no longer be allowed to be loaded via this mode unless they are explicitly allowlisted by the user via `torch.serialization.add_safe_globals`. We recommend you start setting `weights_only=True` for any use case where you don't have full control of the loaded file. Please open an issue on GitHub for any issues related to this experimental feature.\n",
      "  model.load_state_dict(torch.load(\"ResNET18_CIFAR10_ALL_CLASSES.pt\", map_location=DEVICE))\n"
     ]
    },
    {
     "data": {
      "text/plain": [
       "<All keys matched successfully>"
      ]
     },
     "execution_count": 17,
     "metadata": {},
     "output_type": "execute_result"
    }
   ],
   "source": [
    "# loading the model\n",
    "model = resnet18(num_classes = 10).to(DEVICE)\n",
    "model.load_state_dict(torch.load(\"ResNET18_CIFAR10_ALL_CLASSES.pt\", map_location=DEVICE))"
   ]
  },
  {
   "cell_type": "code",
   "execution_count": 18,
   "id": "1170217b",
   "metadata": {},
   "outputs": [
    {
     "name": "stdout",
     "output_type": "stream",
     "text": [
      "CPU times: user 3 μs, sys: 0 ns, total: 3 μs\n",
      "Wall time: 4.53 μs\n"
     ]
    }
   ],
   "source": [
    "%%time\n",
    "\n",
    "if train_new_one:\n",
    "    noises = {}\n",
    "    for cls in classes_to_forget:\n",
    "        print(\"Optiming loss for class {}\".format(cls))\n",
    "        noises[cls] = Noise(batch_size, 3, 32, 32)\n",
    "        opt = torch.optim.Adam(noises[cls].parameters(), lr = 0.1)\n",
    "\n",
    "        num_epochs = 5\n",
    "        num_steps = 8\n",
    "        class_label = cls\n",
    "        for epoch in range(num_epochs):\n",
    "            total_loss = []\n",
    "            for batch in range(num_steps):\n",
    "                inputs = noises[cls]()\n",
    "                labels = torch.zeros(batch_size)+class_label\n",
    "                outputs = model(inputs)\n",
    "                loss = -F.cross_entropy(outputs, labels.long()) + 0.1*torch.mean(torch.sum(torch.square(inputs), [1, 2, 3]))\n",
    "                opt.zero_grad()\n",
    "                loss.backward()\n",
    "                opt.step()\n",
    "                total_loss.append(loss.cpu().detach().numpy())\n",
    "            print(\"Loss: {}\".format(np.mean(total_loss)))"
   ]
  },
  {
   "cell_type": "markdown",
   "id": "0a08aa35",
   "metadata": {},
   "source": [
    "## Impair Step"
   ]
  },
  {
   "cell_type": "code",
   "execution_count": 19,
   "id": "09feaed0",
   "metadata": {},
   "outputs": [
    {
     "ename": "NameError",
     "evalue": "name 'noises' is not defined",
     "output_type": "error",
     "traceback": [
      "\u001b[0;31m---------------------------------------------------------------------------\u001b[0m",
      "\u001b[0;31mNameError\u001b[0m                                 Traceback (most recent call last)",
      "File \u001b[0;32m<timed exec>:8\u001b[0m\n",
      "\u001b[0;31mNameError\u001b[0m: name 'noises' is not defined"
     ]
    }
   ],
   "source": [
    "%%time\n",
    "\n",
    "batch_size = 256\n",
    "noisy_data = []\n",
    "num_batches = 20\n",
    "class_num = 0\n",
    "\n",
    "for cls in classes_to_forget:\n",
    "    for i in range(num_batches):\n",
    "        batch = noises[cls]().cpu().detach()\n",
    "        for i in range(batch[0].size(0)):\n",
    "            noisy_data.append((batch[i], torch.tensor(class_num)))\n",
    "\n",
    "other_samples = []\n",
    "for i in range(len(retain_samples)):\n",
    "    other_samples.append((retain_samples[i][0].cpu(), torch.tensor(retain_samples[i][1])))\n",
    "noisy_data += other_samples\n",
    "noisy_loader = torch.utils.data.DataLoader(noisy_data, batch_size=256, shuffle = True)\n",
    "\n",
    "\n",
    "if train_new_one:\n",
    "    optimizer = torch.optim.Adam(model.parameters(), lr = 0.02)\n",
    "\n",
    "    for epoch in range(1):  \n",
    "        model.train(True)\n",
    "        running_loss = 0.0\n",
    "        running_acc = 0\n",
    "        for i, data in enumerate(noisy_loader):\n",
    "            inputs, labels = data\n",
    "            inputs, labels = inputs,torch.tensor(labels)\n",
    "\n",
    "            optimizer.zero_grad()\n",
    "            outputs = model(inputs)\n",
    "            loss = F.cross_entropy(outputs, labels)\n",
    "            loss.backward()\n",
    "            optimizer.step()\n",
    "\n",
    "            # print statistics\n",
    "            running_loss += loss.item() * inputs.size(0)\n",
    "            out = torch.argmax(outputs.detach(),dim=1)\n",
    "            assert out.shape==labels.shape\n",
    "            running_acc += (labels==out).sum().item()\n",
    "        print(f\"Train loss {epoch+1}: {running_loss/len(train_ds)},Train Acc:{running_acc*100/len(train_ds)}%\")"
   ]
  },
  {
   "cell_type": "markdown",
   "id": "3ac4a772",
   "metadata": {},
   "source": [
    "### Performance after Impair Step"
   ]
  },
  {
   "cell_type": "code",
   "execution_count": 20,
   "id": "bfcffec3",
   "metadata": {},
   "outputs": [],
   "source": [
    "if train_new_one:\n",
    "    print(\"Performance of Standard Forget Model on Forget Class\")\n",
    "    history = [evaluate(model, forget_valid_dl)]\n",
    "    print(\"Accuracy: {}\".format(history[0][\"Acc\"]*100))\n",
    "    print(\"Loss: {}\".format(history[0][\"Loss\"]))\n",
    "\n",
    "    print(\"Performance of Standard Forget Model on Retain Class\")\n",
    "    history = [evaluate(model, retain_valid_dl)]\n",
    "    print(\"Accuracy: {}\".format(history[0][\"Acc\"]*100))\n",
    "    print(\"Loss: {}\".format(history[0][\"Loss\"]))"
   ]
  },
  {
   "cell_type": "markdown",
   "id": "fabdfc92",
   "metadata": {},
   "source": [
    "## Repair Step"
   ]
  },
  {
   "cell_type": "code",
   "execution_count": 21,
   "id": "ca2abac7",
   "metadata": {},
   "outputs": [
    {
     "ename": "NameError",
     "evalue": "name 'other_samples' is not defined",
     "output_type": "error",
     "traceback": [
      "\u001b[0;31m---------------------------------------------------------------------------\u001b[0m",
      "\u001b[0;31mNameError\u001b[0m                                 Traceback (most recent call last)",
      "File \u001b[0;32m<timed exec>:1\u001b[0m\n",
      "\u001b[0;31mNameError\u001b[0m: name 'other_samples' is not defined"
     ]
    }
   ],
   "source": [
    "%%time\n",
    "\n",
    "heal_loader = torch.utils.data.DataLoader(other_samples, batch_size=256, shuffle = True)\n",
    "if train_new_one:\n",
    "    optimizer = torch.optim.Adam(model.parameters(), lr = 0.01)\n",
    "\n",
    "\n",
    "    for epoch in range(1):  \n",
    "        model.train(True)\n",
    "        running_loss = 0.0\n",
    "        running_acc = 0\n",
    "        for i, data in enumerate(heal_loader):\n",
    "            inputs, labels = data\n",
    "            inputs, labels = inputs,torch.tensor(labels)\n",
    "\n",
    "            optimizer.zero_grad()\n",
    "            outputs = model(inputs)\n",
    "            loss = F.cross_entropy(outputs, labels)\n",
    "            loss.backward()\n",
    "            optimizer.step()\n",
    "\n",
    "            # print statistics\n",
    "            running_loss += loss.item() * inputs.size(0)\n",
    "            out = torch.argmax(outputs.detach(),dim=1)\n",
    "            assert out.shape==labels.shape\n",
    "            running_acc += (labels==out).sum().item()\n",
    "        print(f\"Train loss {epoch+1}: {running_loss/len(train_ds)},Train Acc:{running_acc*100/len(train_ds)}%\")"
   ]
  },
  {
   "cell_type": "markdown",
   "id": "8cee6e55",
   "metadata": {},
   "source": [
    "### Performance after Repair Step"
   ]
  },
  {
   "cell_type": "code",
   "execution_count": 22,
   "id": "e74aa345",
   "metadata": {},
   "outputs": [],
   "source": [
    "if train_new_one:\n",
    "    print(\"Performance of Standard Forget Model on Forget Class\")\n",
    "    history = [evaluate(model, forget_valid_dl)]\n",
    "    print(\"Accuracy: {}\".format(history[0][\"Acc\"]*100))\n",
    "    print(\"Loss: {}\".format(history[0][\"Loss\"]))\n",
    "\n",
    "    print(\"Performance of Standard Forget Model on Retain Class\")\n",
    "    history = [evaluate(model, retain_valid_dl)]\n",
    "    print(\"Accuracy: {}\".format(history[0][\"Acc\"]*100))\n",
    "    print(\"Loss: {}\".format(history[0][\"Loss\"]))"
   ]
  },
  {
   "cell_type": "code",
   "execution_count": 23,
   "id": "6c19a437",
   "metadata": {},
   "outputs": [],
   "source": [
    "from typing import Dict\n",
    "\n",
    "def load_models_dict(path: str=\"data/new/models\") -> Dict[str, torch.nn.Module]:\n",
    "    de = torch.device(\"cuda\" if torch.cuda.is_available() else \"cpu\")\n",
    "    model = resnet18(num_classes = 10).to(de)\n",
    "    \n",
    "    # load all the models\n",
    "    md = {}\n",
    "    for list in os.listdir(path):\n",
    "        \n",
    "        model.load_state_dict(torch.load(f=os.path.join(path, list), map_location=DEVICE, weights_only=True))\n",
    "        model.eval()\n",
    "        md[len(md)] = model\n",
    "\n",
    "    return md"
   ]
  },
  {
   "cell_type": "code",
   "execution_count": 24,
   "id": "b2281224",
   "metadata": {},
   "outputs": [],
   "source": [
    "from src.fyemu_tunable import main\n",
    "\n",
    "for i in range(0):\n",
    "    model = main(\n",
    "        new_baseline=False,\n",
    "        logs=False,\n",
    "        model_eval_logs=False,\n",
    "    )\n",
    "    \n",
    "    if not os.path.exists(\"data/new/models\"):\n",
    "        os.makedirs(\"data/new/models\")\n",
    "    n = len(os.listdir(\"data/new/models\"))\n",
    "    torch.save(model.state_dict(), f\"data/new/models/ResNET18_CIFAR10_UN_{n}.pt\")"
   ]
  },
  {
   "cell_type": "markdown",
   "id": "0f11c592",
   "metadata": {},
   "source": [
    "___\n",
    "## Evaluate multiple models"
   ]
  },
  {
   "cell_type": "code",
   "execution_count": 25,
   "id": "bee59dec",
   "metadata": {},
   "outputs": [],
   "source": [
    "from PIL import Image\n",
    "import tarfile\n",
    "import os\n",
    "import torch\n",
    "from torch import nn\n",
    "import torch.nn.functional as F\n",
    "from torchvision.datasets import ImageFolder\n",
    "from torch.utils.data import DataLoader, Dataset\n",
    "import torchvision.transforms as tt\n",
    "\n",
    "DEVICE = \"cuda:0\" if torch.cuda.is_available() else \"cpu\"\n",
    "\n",
    "# Firstly, all the data\n",
    "class SubData(Dataset):\n",
    "    def __init__(self, data, transform):\n",
    "        self.data = data\n",
    "        self.transform = transform\n",
    "        self.device = \"cuda:0\" if torch.cuda.is_available() else \"cpu\"\n",
    "    def __len__(self):\n",
    "        return len(self.data)\n",
    "    def __getitem__(self, idx):\n",
    "        path, label = self.data[idx]\n",
    "\n",
    "        img = Image.open(f\"{path}\").convert('RGB')\n",
    "        img = self.transform(img)\n",
    "        label = torch.tensor(label)\n",
    "        return img.to(self.device), label.to(self.device)\n",
    "\n",
    "data_dir = f'data{os.sep}cifar10'\n",
    "classes = [0, 1, 2, 3, 4, 5, 6, 7, 8, 9]\n",
    "\n",
    "# classes which are required to un-learn\n",
    "classes_to_forget = [0, 2]\n",
    "\n",
    "transform_test = tt.Compose([\n",
    "    tt.ToTensor(),\n",
    "    tt.Normalize((0.4914, 0.4822, 0.4465), (0.2023, 0.1994, 0.2010)),\n",
    "])\n",
    "transform_train = tt.Compose([\n",
    "    tt.ToTensor(),\n",
    "    tt.Normalize((0.4914, 0.4822, 0.4465), (0.2023, 0.1994, 0.2010)),\n",
    "])"
   ]
  },
  {
   "cell_type": "code",
   "execution_count": 26,
   "id": "cb5e2acb",
   "metadata": {},
   "outputs": [],
   "source": [
    "valid_all_ds = ImageFolder(data_dir+f'{os.sep}test', transform_test)\n",
    "valid_all_dl = DataLoader(valid_all_ds, 256,)\n",
    "\n",
    "train_all_ds = ImageFolder(data_dir+f'{os.sep}train', transform_train)\n",
    "train_all_dl = DataLoader(train_all_ds, 256,)\n",
    "\n",
    "rt_tr = {}\n",
    "for t, l in train_all_ds.imgs:\n",
    "    if l not in classes_to_forget:\n",
    "        rt_tr[len(rt_tr)] = (t, l)\n",
    "rt_vl = {}\n",
    "for t, l in valid_all_ds.imgs:\n",
    "    if l not in classes_to_forget:\n",
    "        rt_vl[len(rt_vl)] = (t, l)\n",
    "\n",
    "train_retain_ds = SubData(rt_tr, transform_train)\n",
    "valid_retain_ds = SubData(rt_vl, transform_test)\n",
    "\n",
    "train_retain_dl = DataLoader(train_retain_ds, 256, shuffle=True)\n",
    "valid_retain_dl = DataLoader(valid_retain_ds, 256*2)\n",
    "\n",
    "rt_tr = {}\n",
    "for t, l in train_all_ds.imgs:\n",
    "    if l in classes_to_forget:\n",
    "        rt_tr[len(rt_tr)] = (t, l)\n",
    "rt_vl = {}\n",
    "for t, l in valid_all_ds.imgs:\n",
    "    if l in classes_to_forget:\n",
    "        rt_vl[len(rt_vl)] = (t, l)\n",
    "\n",
    "train_forget_ds = SubData(rt_tr, transform_train)\n",
    "valid_forget_ds = SubData(rt_vl, transform_test)\n",
    "\n",
    "train_forget_dl = DataLoader(train_forget_ds, 256, shuffle=True)\n",
    "valid_forget_dl = DataLoader(train_forget_ds, 256*2)\n",
    "\n",
    "loaders = {\n",
    "    0: train_all_dl,\n",
    "    1: valid_all_dl,\n",
    "    2: train_retain_dl,\n",
    "    3: valid_retain_dl,\n",
    "    4: train_forget_dl,\n",
    "    5: valid_forget_dl,\n",
    "}"
   ]
  },
  {
   "cell_type": "code",
   "execution_count": 27,
   "id": "f5c37661",
   "metadata": {},
   "outputs": [],
   "source": [
    "import src.metrics\n",
    "from src.fyemu_tunable import evaluate\n",
    "paper_ms    = load_models_dict(path=\"data/paper/models\")\n",
    "gemu_ms     = load_models_dict(path=\"data/new/models\")\n",
    "\n",
    "exact_ms    = load_models_dict(path=\"data/retrain/models\")"
   ]
  },
  {
   "cell_type": "code",
   "execution_count": 28,
   "id": "bdd61db6",
   "metadata": {},
   "outputs": [
    {
     "data": {
      "text/plain": [
       "{0: {'Loss': 2.125023365020752, 'Acc': 0.8007015585899353},\n",
       " 1: {'Loss': 3.0320842266082764, 'Acc': 0.643359363079071},\n",
       " 2: {'Loss': 0.0003286290739197284, 'Acc': 1.0},\n",
       " 3: {'Loss': 1.1749095916748047, 'Acc': 0.7978271245956421},\n",
       " 4: {'Loss': 10.641883850097656, 'Acc': 0.0},\n",
       " 5: {'Loss': 10.659263610839844, 'Acc': 0.0}}"
      ]
     },
     "execution_count": 28,
     "metadata": {},
     "output_type": "execute_result"
    }
   ],
   "source": [
    "def run(model, loaders):\n",
    "    results = {}\n",
    "    for name, loader in loaders.items():\n",
    "        results[name] = evaluate(model.to(DEVICE), loader)\n",
    "\n",
    "    return results\n",
    "run(exact_ms[0], loaders)"
   ]
  },
  {
   "cell_type": "code",
   "execution_count": 29,
   "id": "a5922b7a",
   "metadata": {},
   "outputs": [
    {
     "name": "stderr",
     "output_type": "stream",
     "text": [
      "                                                                   \r"
     ]
    }
   ],
   "source": [
    "kl_exact_to_fyemu = {key: src.metrics.kl_divergence_between_models(exact_ms[0], paper_ms[0], loader) for key, loader in loaders.items()}"
   ]
  },
  {
   "cell_type": "code",
   "execution_count": 30,
   "id": "ea4b7584",
   "metadata": {},
   "outputs": [
    {
     "data": {
      "text/plain": [
       "{0: 3.001258940416939,\n",
       " 1: 2.3969006985425954,\n",
       " 2: 2.9579621895103707,\n",
       " 3: 2.253737926483154,\n",
       " 4: 3.1858519375324255,\n",
       " 5: 3.2036361098289494}"
      ]
     },
     "execution_count": 30,
     "metadata": {},
     "output_type": "execute_result"
    }
   ],
   "source": [
    "kl_exact_to_fyemu"
   ]
  },
  {
   "cell_type": "code",
   "execution_count": 31,
   "id": "7ec23f0f",
   "metadata": {},
   "outputs": [
    {
     "name": "stderr",
     "output_type": "stream",
     "text": [
      "                                                                   \r"
     ]
    },
    {
     "data": {
      "text/plain": [
       "{0: [2.99800184247445,\n",
       "  2.99800184247445,\n",
       "  2.99800184247445,\n",
       "  2.99800184247445,\n",
       "  2.99800184247445,\n",
       "  2.99800184247445,\n",
       "  2.99800184247445,\n",
       "  2.99800184247445,\n",
       "  2.99800184247445,\n",
       "  2.99800184247445,\n",
       "  2.99800184247445,\n",
       "  2.99800184247445,\n",
       "  2.99800184247445,\n",
       "  2.99800184247445,\n",
       "  2.99800184247445,\n",
       "  2.99800184247445,\n",
       "  2.99800184247445,\n",
       "  2.99800184247445,\n",
       "  2.99800184247445,\n",
       "  2.99800184247445,\n",
       "  2.99800184247445,\n",
       "  2.99800184247445,\n",
       "  2.99800184247445,\n",
       "  2.99800184247445,\n",
       "  2.99800184247445,\n",
       "  2.99800184247445,\n",
       "  2.99800184247445,\n",
       "  2.99800184247445,\n",
       "  2.99800184247445,\n",
       "  2.99800184247445],\n",
       " 1: [2.4138207420706745,\n",
       "  2.4138207420706745,\n",
       "  2.4138207420706745,\n",
       "  2.4138207420706745,\n",
       "  2.4138207420706745,\n",
       "  2.4138207420706745,\n",
       "  2.4138207420706745,\n",
       "  2.4138207420706745,\n",
       "  2.4138207420706745,\n",
       "  2.4138207420706745,\n",
       "  2.4138207420706745,\n",
       "  2.4138207420706745,\n",
       "  2.4138207420706745,\n",
       "  2.4138207420706745,\n",
       "  2.4138207420706745,\n",
       "  2.4138207420706745,\n",
       "  2.4138207420706745,\n",
       "  2.4138207420706745,\n",
       "  2.4138207420706745,\n",
       "  2.4138207420706745,\n",
       "  2.4138207420706745,\n",
       "  2.4138207420706745,\n",
       "  2.4138207420706745,\n",
       "  2.4138207420706745,\n",
       "  2.4138207420706745,\n",
       "  2.4138207420706745,\n",
       "  2.4138207420706745,\n",
       "  2.4138207420706745,\n",
       "  2.4138207420706745,\n",
       "  2.4138207420706745],\n",
       " 2: [2.9805936950027556,\n",
       "  2.985043885601553,\n",
       "  2.981307994028564,\n",
       "  2.984555946034232,\n",
       "  2.979505976294256,\n",
       "  2.98457421163085,\n",
       "  2.9801700039274386,\n",
       "  2.9795582825970484,\n",
       "  2.984668875955472,\n",
       "  2.9838554509885764,\n",
       "  2.9817508557799512,\n",
       "  2.9816223663888914,\n",
       "  2.982272570300253,\n",
       "  2.983155431261489,\n",
       "  2.9830585953536293,\n",
       "  2.982755161394738,\n",
       "  2.9785177206537523,\n",
       "  2.9855474651239486,\n",
       "  2.9839427121885262,\n",
       "  2.982957079152394,\n",
       "  2.9789411338271607,\n",
       "  2.983763217926025,\n",
       "  2.9828373079846617,\n",
       "  2.9823159867790854,\n",
       "  2.9805902872875243,\n",
       "  2.9814254539028107,\n",
       "  2.9798289150189436,\n",
       "  2.980944419362743,\n",
       "  2.980003653058581,\n",
       "  2.9793809280274033],\n",
       " 3: [2.3201623298227787,\n",
       "  2.3201623298227787,\n",
       "  2.3201623298227787,\n",
       "  2.3201623298227787,\n",
       "  2.3201623298227787,\n",
       "  2.3201623298227787,\n",
       "  2.3201623298227787,\n",
       "  2.3201623298227787,\n",
       "  2.3201623298227787,\n",
       "  2.3201623298227787,\n",
       "  2.3201623298227787,\n",
       "  2.3201623298227787,\n",
       "  2.3201623298227787,\n",
       "  2.3201623298227787,\n",
       "  2.3201623298227787,\n",
       "  2.3201623298227787,\n",
       "  2.3201623298227787,\n",
       "  2.3201623298227787,\n",
       "  2.3201623298227787,\n",
       "  2.3201623298227787,\n",
       "  2.3201623298227787,\n",
       "  2.3201623298227787,\n",
       "  2.3201623298227787,\n",
       "  2.3201623298227787,\n",
       "  2.3201623298227787,\n",
       "  2.3201623298227787,\n",
       "  2.3201623298227787,\n",
       "  2.3201623298227787,\n",
       "  2.3201623298227787,\n",
       "  2.3201623298227787],\n",
       " 4: [3.0582285404205325,\n",
       "  3.05997970700264,\n",
       "  3.0537044346332554,\n",
       "  3.0470104694366458,\n",
       "  3.0574247241020203,\n",
       "  3.059084576368332,\n",
       "  3.078172659873962,\n",
       "  3.06516552567482,\n",
       "  3.0929919421672825,\n",
       "  3.0890380203723904,\n",
       "  3.048155945539474,\n",
       "  3.0667095899581907,\n",
       "  3.0586705744266514,\n",
       "  3.050057291984558,\n",
       "  3.05141339302063,\n",
       "  3.073940873146057,\n",
       "  3.0595492601394656,\n",
       "  3.090350687503815,\n",
       "  3.0501386821269985,\n",
       "  3.0550476908683777,\n",
       "  3.0654064357280726,\n",
       "  3.0501775920391085,\n",
       "  3.054583549499512,\n",
       "  3.069997739791871,\n",
       "  3.0879609227180493,\n",
       "  3.063188612461091,\n",
       "  3.0801770269870756,\n",
       "  3.0655084013938896,\n",
       "  3.054896235466004,\n",
       "  3.085013377666473],\n",
       " 5: [3.072323250770569,\n",
       "  3.072323250770569,\n",
       "  3.072323250770569,\n",
       "  3.072323250770569,\n",
       "  3.072323250770569,\n",
       "  3.072323250770569,\n",
       "  3.072323250770569,\n",
       "  3.072323250770569,\n",
       "  3.072323250770569,\n",
       "  3.072323250770569,\n",
       "  3.072323250770569,\n",
       "  3.072323250770569,\n",
       "  3.072323250770569,\n",
       "  3.072323250770569,\n",
       "  3.072323250770569,\n",
       "  3.072323250770569,\n",
       "  3.072323250770569,\n",
       "  3.072323250770569,\n",
       "  3.072323250770569,\n",
       "  3.072323250770569,\n",
       "  3.072323250770569,\n",
       "  3.072323250770569,\n",
       "  3.072323250770569,\n",
       "  3.072323250770569,\n",
       "  3.072323250770569,\n",
       "  3.072323250770569,\n",
       "  3.072323250770569,\n",
       "  3.072323250770569,\n",
       "  3.072323250770569,\n",
       "  3.072323250770569]}"
      ]
     },
     "execution_count": 31,
     "metadata": {},
     "output_type": "execute_result"
    }
   ],
   "source": [
    "kl_exact_to_gemu = {}\n",
    "for model in gemu_ms.values():\n",
    "    new = {key: src.metrics.kl_divergence_between_models(exact_ms[0], model, loader) for key, loader in loaders.items()}\n",
    "    if len(kl_exact_to_gemu) == 0:\n",
    "        for name in new.keys():\n",
    "            kl_exact_to_gemu[name] = []\n",
    "    for name in new.keys():\n",
    "        kl_exact_to_gemu[name].append(new[name])\n",
    "kl_exact_to_gemu"
   ]
  },
  {
   "cell_type": "code",
   "execution_count": 32,
   "id": "dc403256",
   "metadata": {},
   "outputs": [
    {
     "data": {
      "text/plain": [
       "{0: 2.99800184247445,\n",
       " 1: 2.4138207420706745,\n",
       " 2: 2.9819815194277752,\n",
       " 3: 2.3201623298227787,\n",
       " 4: 3.0647248160839085,\n",
       " 5: 3.072323250770569}"
      ]
     },
     "execution_count": 32,
     "metadata": {},
     "output_type": "execute_result"
    }
   ],
   "source": [
    "for key in kl_exact_to_gemu.keys():\n",
    "    kl_exact_to_gemu[key] = sum(kl_exact_to_gemu[key])/len(kl_exact_to_gemu[key])\n",
    "kl_exact_to_gemu"
   ]
  },
  {
   "cell_type": "code",
   "execution_count": 41,
   "id": "095208fe",
   "metadata": {},
   "outputs": [],
   "source": [
    "import matplotlib.pyplot as plt\n",
    "from typing import Dict, List, Literal\n",
    "\n",
    "def create_boxplots(score_lists1: Dict[str, List[float]], score_lists2: Dict[str, List[float]], score_lists3: Dict[str, List[float]], title: str = 'Box Plot of Accuracy Scores for Different Models', evaluation: Literal[\"Accuracy\", \"Loss\"] = \"Accuracy\") -> None:\n",
    "    \"\"\"Create a box plot of accuracy scores for each parsed list in the diconary.\"\"\"\n",
    "\n",
    "    # Prepare data for the box plot\n",
    "    data1 = [sum(scores)/len(scores) for scores in score_lists1.values()]\n",
    "    data2 = [sum(scores)/len(scores) for scores in score_lists2.values()]\n",
    "    data3 = [sum(scores)/len(scores) for scores in score_lists3.values()]\n",
    "    labels = list(score_lists1.keys())\n",
    "    X_axis = (np.arange(len(labels)))\n",
    "\n",
    "    # Create the box plot\n",
    "    plt.figure(figsize=(10, 6))\n",
    "    plt.bar(x=X_axis-0.3   , height=data1, width=0.3, color=\"blue\", label=\"Baseline\")\n",
    "    plt.bar(x=X_axis        , height=data2, width=0.3, color=\"red\", label=\"FEMU\")\n",
    "    plt.bar(x=X_axis+0.3   , height=data3, width=0.3, color=\"orange\", label=\"FEMU+Gen\")\n",
    "\n",
    "    # Add labels and title\n",
    "    plt.xticks(X_axis, labels)\n",
    "    plt.xlabel('Subsets')\n",
    "    plt.ylabel(f'{evaluation} Score')\n",
    "    plt.ylim(0, 1.0)\n",
    "    plt.title(title)\n",
    "    plt.legend()\n",
    "\n",
    "    # Display the plot\n",
    "    plt.show()"
   ]
  },
  {
   "cell_type": "markdown",
   "id": "11c7b932",
   "metadata": {},
   "source": [
    "### Accuracy Per Class"
   ]
  },
  {
   "cell_type": "code",
   "execution_count": 34,
   "id": "47c7551a",
   "metadata": {},
   "outputs": [],
   "source": [
    "from PIL import Image\n",
    "import tarfile\n",
    "import os\n",
    "import torch\n",
    "from torch import nn\n",
    "import torch.nn.functional as F\n",
    "from torchvision.datasets import ImageFolder\n",
    "from torch.utils.data import DataLoader, Dataset\n",
    "import torchvision.transforms as tt\n",
    "\n",
    "DEVICE = \"cuda:0\" if torch.cuda.is_available() else \"cpu\"\n",
    "\n",
    "data_classes = {}\n",
    "for c in classes:\n",
    "    data_classes[c] = {}\n",
    "    for t, l in valid_all_ds.imgs:\n",
    "        if l == c:\n",
    "            data_classes[c][len(data_classes[c])] = (t, l)\n",
    "\n",
    "data_dl_classes = {c: DataLoader(SubData(data_classes[c], transform_test), 256) for c in classes}"
   ]
  },
  {
   "cell_type": "code",
   "execution_count": 35,
   "id": "d4887f5f",
   "metadata": {},
   "outputs": [],
   "source": [
    "class_accs_paper = {c: [] for c in classes}\n",
    "for idx, model in paper_ms.items():\n",
    "    model.eval()\n",
    "    accs = run(model, data_dl_classes)\n",
    "    for c, acc in accs.items():\n",
    "        class_accs_paper[c].append(acc[\"Acc\"])"
   ]
  },
  {
   "cell_type": "code",
   "execution_count": 36,
   "id": "5b73c8b6",
   "metadata": {},
   "outputs": [],
   "source": [
    "class_accs_gemu = {c: [] for c in classes}\n",
    "for idx, model in gemu_ms.items():\n",
    "    model.eval()\n",
    "    accs = run(model, data_dl_classes)\n",
    "    for c, acc in accs.items():\n",
    "        class_accs_gemu[c].append(acc[\"Acc\"])"
   ]
  },
  {
   "cell_type": "code",
   "execution_count": 37,
   "id": "6b134631",
   "metadata": {},
   "outputs": [],
   "source": [
    "class_accs_exact = {c: [] for c in classes}\n",
    "for idx, model in exact_ms.items():\n",
    "    model.eval()\n",
    "    accs = run(model, data_dl_classes)\n",
    "    for c, acc in accs.items():\n",
    "        class_accs_exact[c].append(acc[\"Acc\"])"
   ]
  },
  {
   "cell_type": "code",
   "execution_count": 43,
   "id": "83c8a7f9",
   "metadata": {},
   "outputs": [
    {
     "data": {
      "image/png": "[encoded data removed]",
      "text/plain": [
       "<Figure size 1000x600 with 1 Axes>"
      ]
     },
     "metadata": {},
     "output_type": "display_data"
    }
   ],
   "source": [
    "create_boxplots(class_accs_exact, class_accs_paper, class_accs_gemu, \"Accuracy Comparison of Models\", \"Accuracy\")"
   ]
  },
  {
   "cell_type": "code",
   "execution_count": 39,
   "id": "974870e1",
   "metadata": {},
   "outputs": [
    {
     "data": {
      "text/plain": [
       "np.float64(0.7518858313560486)"
      ]
     },
     "execution_count": 39,
     "metadata": {},
     "output_type": "execute_result"
    }
   ],
   "source": [
    "# Delta Acc\n",
    "\n",
    "sum([np.absolute(sum(i)/len(i)-(sum(j)/len(j))) for i, j in zip(class_accs_exact.values(), class_accs_paper.values())])"
   ]
  },
  {
   "cell_type": "code",
   "execution_count": 40,
   "id": "ea719ede",
   "metadata": {},
   "outputs": [
    {
     "data": {
      "text/plain": [
       "np.float64(0.7669382691383362)"
      ]
     },
     "execution_count": 40,
     "metadata": {},
     "output_type": "execute_result"
    }
   ],
   "source": [
    "\n",
    "sum([np.absolute(sum(i)/len(i)-(sum(j)/len(j))) for i, j in zip(class_accs_exact.values(), class_accs_gemu.values())])"
   ]
  }
 ],
 "metadata": {
  "kernelspec": {
   "display_name": "bach.conda",
   "language": "python",
   "name": "python3"
  },
  "language_info": {
   "codemirror_mode": {
    "name": "ipython",
    "version": 3
   },
   "file_extension": ".py",
   "mimetype": "text/x-python",
   "name": "python",
   "nbconvert_exporter": "python",
   "pygments_lexer": "ipython3",
   "version": "3.12.8"
  }
 },
 "nbformat": 4,
 "nbformat_minor": 5
}
